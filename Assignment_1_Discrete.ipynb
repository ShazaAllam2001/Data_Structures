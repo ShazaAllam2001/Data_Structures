{
  "nbformat": 4,
  "nbformat_minor": 0,
  "metadata": {
    "colab": {
      "name": "Assignment_1_Discrete.ipynb",
      "provenance": [],
      "collapsed_sections": [],
      "authorship_tag": "ABX9TyOA4F0vw4/9iCg/8XPjl6yL",
      "include_colab_link": true
    },
    "kernelspec": {
      "name": "python3",
      "display_name": "Python 3"
    }
  },
  "cells": [
    {
      "cell_type": "markdown",
      "metadata": {
        "id": "view-in-github",
        "colab_type": "text"
      },
      "source": [
        "<a href=\"https://colab.research.google.com/github/ShazaAllam2001/Data_Structures/blob/master/Assignment_1_Discrete.ipynb\" target=\"_parent\"><img src=\"https://colab.research.google.com/assets/colab-badge.svg\" alt=\"Open In Colab\"/></a>"
      ]
    },
    {
      "cell_type": "code",
      "metadata": {
        "id": "vOBylAzu1r9a"
      },
      "source": [
        "# A function for checking if the element is included in the set\n",
        "def included(element, set):\n",
        "    for i in range(0, len(set)):\n",
        "        if element == set[i]:\n",
        "           return 1\n",
        "    return 0      "
      ],
      "execution_count": 18,
      "outputs": []
    },
    {
      "cell_type": "code",
      "metadata": {
        "id": "nXnRgnep1QTF"
      },
      "source": [
        "# The Union function"
      ],
      "execution_count": null,
      "outputs": []
    },
    {
      "cell_type": "code",
      "metadata": {
        "id": "y19rgRNz1Whp"
      },
      "source": [
        "# The Intersection function"
      ],
      "execution_count": null,
      "outputs": []
    },
    {
      "cell_type": "code",
      "metadata": {
        "id": "rBJNitAS1kXU"
      },
      "source": [
        "# The complement function\n",
        "def complement(subset, set):\n",
        "     for i in range(0, len(set)):\n",
        "         if included(set[i], subset) == 0:\n",
        "            comp_set.append(set[i])\n",
        "     return comp_set\n"
      ],
      "execution_count": 19,
      "outputs": []
    },
    {
      "cell_type": "code",
      "metadata": {
        "id": "ugZqqC1yjXN9",
        "outputId": "87c3db86-40b9-46e0-9be4-463a87cc7558",
        "colab": {
          "base_uri": "https://localhost:8080/",
          "height": 391
        }
      },
      "source": [
        "# The program UI\n",
        "print(\"*** A program for implementing different set operations ***\")\n",
        "# Taking the input from the user\n",
        "U_num = int (input(\"Enter the number of elements in the universe : \"))\n",
        "Universe = [\"Null\"] * U_num\n",
        "print(\"Enter the elements of the Universe : \")\n",
        "for i in range (0,U_num):\n",
        "    Universe[i] = input()\n",
        "set_num = int (input(\"Enter the number of sets you want to select : \"))\n",
        "Subsets = [[]] * set_num\n",
        "for i in range (0,set_num):\n",
        "    S_num = int(input(\"Enter the number of elements in set (\"+ str(i+1) +\"): \"))\n",
        "    print(\"Enter the elements of set \"+ str(i+1) +\" : \")\n",
        "    for j in range (0,S_num):\n",
        "        new_element = input()\n",
        "        if included(new_element, Union) == 0 :\n",
        "           Subsets[i].append(new_element)\n",
        "        else\n",
        "           j = j - 1\n",
        "           print(\"Error: This element is not included in the Universe\")\n",
        "# Choosing the operation to be made\n",
        "print(\"The operations that can be made on the subsets :\")\n",
        "print(\"1 : Union of two sets\")\n",
        "print(\"2 : Intersection of two sets\")\n",
        "print(\"3 : Complement of a set\")\n",
        "operation = input(\"Enter the required operation to be made on the subsets : \")\n",
        "while(1):\n",
        "  if operation == 1:\n",
        "   #\n",
        "     break\n",
        "  elif operation == 2:\n",
        "#\n",
        "     break\n",
        "  elif operation == 3:\n",
        "     set_x = input(\"Enter the number of set you want to get its complement : \")\n",
        "     comp_set = complement(Subsets[i-1],Universe)\n",
        "     print(\"The complement of this set :\")\n",
        "     for i in range(0,len(comp_set)):\n",
        "         print(comp_set[i])\n",
        "     break\n",
        "  else\n",
        "     print(\"Error : There is no operation with that number\")\n",
        "     operation = input(\"Enter the required operation to be made on the subsets : \")\n",
        "\n",
        "   \n"
      ],
      "execution_count": 16,
      "outputs": [
        {
          "output_type": "stream",
          "text": [
            "*** A program for implementing different set operations ***\n",
            "Enter the number of elements in the universe : 6\n",
            "Enter the elements of the Universe : \n",
            "1\n",
            "2\n",
            "3\n",
            "4\n",
            "5\n",
            "6\n",
            "Enter the number of sets you want to select : 2\n",
            "Enter the number of elements in set (1): 2\n",
            "Enter the elements of set 1 : \n",
            "1\n",
            "2\n",
            "Enter the number of elements in set (2): 3\n",
            "Enter the elements of set 2 : \n",
            "4\n",
            "5\n",
            "6\n",
            "1\n",
            "2\n",
            "4\n"
          ],
          "name": "stdout"
        }
      ]
    }
  ]
}